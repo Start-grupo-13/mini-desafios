{
  "nbformat": 4,
  "nbformat_minor": 0,
  "metadata": {
    "colab": {
      "provenance": [],
      "collapsed_sections": [],
      "toc_visible": true,
      "authorship_tag": "ABX9TyMpfGVefHgwhk7vN4DMfI2v"
    },
    "kernelspec": {
      "name": "python3",
      "display_name": "Python 3"
    },
    "language_info": {
      "name": "python"
    }
  },
  "cells": [
    {
      "cell_type": "markdown",
      "source": [
        "# Debugger Python\n",
        "\n",
        "https://amrdraz.github.io/python-debugger/"
      ],
      "metadata": {
        "id": "g8U1xQgc_qGV"
      }
    },
    {
      "cell_type": "markdown",
      "source": [
        "# AULA"
      ],
      "metadata": {
        "id": "7VpUUmAF2n7q"
      }
    },
    {
      "cell_type": "code",
      "execution_count": null,
      "metadata": {
        "colab": {
          "base_uri": "https://localhost:8080/"
        },
        "id": "-vBjNSDwzvoj",
        "outputId": "6bf1f286-6ab1-47e7-f3bd-ecae5bdb2e64"
      },
      "outputs": [
        {
          "output_type": "stream",
          "name": "stdout",
          "text": [
            "11\n",
            "10\n",
            "True\n",
            "Par\n",
            "Ímpar\n"
          ]
        }
      ],
      "source": [
        "# SOMA\n",
        "def soma(a, b):\n",
        "  print(a + b)\n",
        "soma(2, 9)\n",
        "\n",
        "# SOMA\n",
        "def soma(a, b):\n",
        "  return a + b\n",
        "print(soma(3, 7))\n",
        "\n",
        "# SE UM NÚMERO É PAR\n",
        "def ehPar(x):\n",
        "  return x%2 == 0\n",
        "print(ehPar(2))\n",
        "\n",
        "# SE UM NÚMERO É ÍMPAR\n",
        "def parOuImpar(x):\n",
        "  if ehPar(x):\n",
        "    return \"Par\"\n",
        "  else:\n",
        "    return \"Ímpar\"\n",
        "print(parOuImpar(2))\n",
        "print(parOuImpar(3))"
      ]
    },
    {
      "cell_type": "code",
      "source": [
        "# PESQUISA EM UMA LISTA\n",
        "\n",
        "def pesquise(lista, valor):\n",
        "  for x, e in enumerate(lista):\n",
        "    if (e == valor):\n",
        "      return x\n",
        "  return None\n",
        "\n",
        "lista = [10, 20, 25, 30]\n",
        "print(pesquise(lista,25))\n",
        "print(pesquise(lista,27))"
      ],
      "metadata": {
        "colab": {
          "base_uri": "https://localhost:8080/"
        },
        "id": "3MephrOvz5FV",
        "outputId": "73eb1dd5-1d39-4174-c9a8-e9bf318f8963"
      },
      "execution_count": null,
      "outputs": [
        {
          "output_type": "stream",
          "name": "stdout",
          "text": [
            "2\n",
            "None\n"
          ]
        }
      ]
    },
    {
      "cell_type": "code",
      "source": [
        "# MÉDIA DOS VALORES EM UMA LISTA\n",
        "lista = [1,2,3,4,5]\n",
        "\n",
        "def soma(lista):\n",
        "  total = 0\n",
        "  for e in lista:\n",
        "    total += e\n",
        "  return total\n",
        "\n",
        "def media(lista):\n",
        "  return soma(lista)/len(lista)\n",
        "\n",
        "print(media(lista))"
      ],
      "metadata": {
        "id": "gL928Xbtz4un"
      },
      "execution_count": null,
      "outputs": []
    },
    {
      "cell_type": "markdown",
      "source": [
        "# Exercícios"
      ],
      "metadata": {
        "id": "gZ0WZzLw0K2e"
      }
    },
    {
      "cell_type": "markdown",
      "source": [
        "Exercício 8.1\n",
        "\n",
        "escreva uma função que retorne o maior de dois números"
      ],
      "metadata": {
        "id": "5fNCd7ZSvZ7Z"
      }
    },
    {
      "cell_type": "code",
      "source": [
        "x,y = [int(valor) for valor in input().split()]\n",
        "\n",
        "def maior(x, y):\n",
        "  return max(x, y)\n",
        "  \n",
        "print(maior(x, y))"
      ],
      "metadata": {
        "colab": {
          "base_uri": "https://localhost:8080/"
        },
        "id": "1zS__2-JyWcr",
        "outputId": "5c16e57a-6318-4074-9e9a-f68cf7a11987"
      },
      "execution_count": null,
      "outputs": [
        {
          "output_type": "stream",
          "name": "stdout",
          "text": [
            "7 7\n",
            "7\n"
          ]
        }
      ]
    },
    {
      "cell_type": "markdown",
      "source": [
        "Exercício 8.2\n",
        "\n",
        "escreva uma função que receba dois números e retorne True se o primeiro número dor múltiplo do segundo."
      ],
      "metadata": {
        "id": "MDRxteu61ohg"
      }
    },
    {
      "cell_type": "code",
      "source": [
        "x,y = [int(valor) for valor in input().split()]\n",
        "\n",
        "def multip(x, y):\n",
        "  if x % y == 0:\n",
        "    r = \"True\"\n",
        "  else:\n",
        "    r = \"False\"\n",
        "  return r\n",
        "  \n",
        "print(multip(x, y))"
      ],
      "metadata": {
        "colab": {
          "base_uri": "https://localhost:8080/"
        },
        "outputId": "28796fd5-9869-4dd3-d101-2bca2b622571",
        "id": "wEunCfnS1ohr"
      },
      "execution_count": null,
      "outputs": [
        {
          "output_type": "stream",
          "name": "stdout",
          "text": [
            "5 5\n",
            "True\n"
          ]
        }
      ]
    },
    {
      "cell_type": "markdown",
      "source": [
        "Exercício 8.3\n",
        "\n",
        "escreva uma função que receba o lado de um quadrado e retorne sua área"
      ],
      "metadata": {
        "id": "-9EE0YqX2urb"
      }
    },
    {
      "cell_type": "code",
      "source": [
        "lado = int(input())\n",
        "\n",
        "def area(lado):\n",
        "  return lado*lado\n",
        "  \n",
        "print(area(lado))"
      ],
      "metadata": {
        "colab": {
          "base_uri": "https://localhost:8080/"
        },
        "outputId": "91492c50-d33e-4713-efd4-ed9a31c14683",
        "id": "fkMKJ56v2urd"
      },
      "execution_count": null,
      "outputs": [
        {
          "output_type": "stream",
          "name": "stdout",
          "text": [
            "4\n",
            "16\n"
          ]
        }
      ]
    },
    {
      "cell_type": "markdown",
      "source": [
        "Exercício 8.4\n",
        "\n",
        "escreva uma função que receba a base e a altura de um triangulo e retorne a sua área"
      ],
      "metadata": {
        "id": "KO0fGUpH3XDJ"
      }
    },
    {
      "cell_type": "code",
      "source": [
        "base, altura = [int(valor) for valor in input().split()]\n",
        "\n",
        "def area(base, altura):\n",
        "  return (base*altura)/2\n",
        "  \n",
        "print(area(base, altura))"
      ],
      "metadata": {
        "colab": {
          "base_uri": "https://localhost:8080/"
        },
        "outputId": "719bddde-2950-42b7-acfc-a7ae1674b8a1",
        "id": "Ca4Qbe_W3XDL"
      },
      "execution_count": null,
      "outputs": [
        {
          "output_type": "stream",
          "name": "stdout",
          "text": [
            "6 9\n",
            "27.0\n"
          ]
        }
      ]
    },
    {
      "cell_type": "markdown",
      "source": [
        "Exercício 8.6\n",
        "\n",
        "Questão errada"
      ],
      "metadata": {
        "id": "dNMejdSq5R-R"
      }
    },
    {
      "cell_type": "code",
      "source": [
        "def soma(L):\n",
        "  total = 0\n",
        "  x = 0\n",
        "\n",
        "  while x < 5:\n",
        "    total += L[x]\n",
        "    x += 1\n",
        "  return total\n",
        "\n",
        "L = [1,7,2,9,15]\n",
        "print(soma(L))\n",
        "print(soma([7,9,12,3,100,20,4]))"
      ],
      "metadata": {
        "colab": {
          "base_uri": "https://localhost:8080/"
        },
        "id": "Wj2gjZ5J47b3",
        "outputId": "962e2642-e15e-45fe-fe99-1e691abcb921"
      },
      "execution_count": null,
      "outputs": [
        {
          "output_type": "stream",
          "name": "stdout",
          "text": [
            "34\n",
            "131\n"
          ]
        }
      ]
    },
    {
      "cell_type": "markdown",
      "source": [
        "Questão certa"
      ],
      "metadata": {
        "id": "72Qj55hY5TxA"
      }
    },
    {
      "cell_type": "code",
      "source": [
        "def soma(L):\n",
        "  total = 0\n",
        "  x = 0\n",
        "\n",
        "  for valor in L:\n",
        "    total += L[x]\n",
        "    x += 1\n",
        "  return total\n",
        "\n",
        "L = [1, 7, 2, 9, 15]\n",
        "print(soma(L))\n",
        "print(soma([7,9,12,3,100,20,4]))"
      ],
      "metadata": {
        "colab": {
          "base_uri": "https://localhost:8080/"
        },
        "id": "afDXK7Uy5Wm0",
        "outputId": "efd66ed6-700f-420e-817f-e5a69998ab9d"
      },
      "execution_count": null,
      "outputs": [
        {
          "output_type": "stream",
          "name": "stdout",
          "text": [
            "34\n",
            "155\n"
          ]
        }
      ]
    },
    {
      "cell_type": "markdown",
      "source": [
        "# Variável local e global"
      ],
      "metadata": {
        "id": "xO7Rgy8JCaBD"
      }
    },
    {
      "cell_type": "code",
      "source": [
        "a = 5\n",
        "def mudaEImprime():\n",
        "  global a\n",
        "  a = 7\n",
        "  print(f\"a dentro da função {a}\")\n",
        "\n",
        "print(f\"a antes de mudar: {a}\")\n",
        "mudaEImprime()\n",
        "print(f\"a depois de mudar: {a}\")"
      ],
      "metadata": {
        "colab": {
          "base_uri": "https://localhost:8080/"
        },
        "id": "a3V_g6_HCH3a",
        "outputId": "535cc476-ec4f-47d0-c62d-b543c2391350"
      },
      "execution_count": null,
      "outputs": [
        {
          "output_type": "stream",
          "name": "stdout",
          "text": [
            "a antes de mudar: 5\n",
            "a dentro da função 7\n",
            "a depois de mudar: 7\n"
          ]
        }
      ]
    },
    {
      "cell_type": "markdown",
      "source": [
        "# Funções Recursivas\n",
        "A função que chama a si mesma.\n",
        "\n",
        "obs: importante colocar uma condição de parada"
      ],
      "metadata": {
        "id": "DtbGUiqWC8kH"
      }
    },
    {
      "cell_type": "code",
      "source": [
        "n = int(input())\n",
        "\n",
        "def fatorial(n):\n",
        "  if n == 0 or n == 1:\n",
        "    return 1\n",
        "  else:\n",
        "    return n * fatorial(n-1)\n",
        "\n",
        "print(fatorial(n))"
      ],
      "metadata": {
        "colab": {
          "base_uri": "https://localhost:8080/"
        },
        "outputId": "49833fec-abed-49e1-e17e-394f1bca45b1",
        "id": "Vl14UmKMC8kJ"
      },
      "execution_count": null,
      "outputs": [
        {
          "output_type": "stream",
          "name": "stdout",
          "text": [
            "7\n",
            "5040\n"
          ]
        }
      ]
    },
    {
      "cell_type": "markdown",
      "source": [
        "# Exercícios"
      ],
      "metadata": {
        "id": "Fh--vlR60sae"
      }
    },
    {
      "cell_type": "markdown",
      "source": [
        "Exercício 8.7\n",
        "\n",
        "defina uma função recursiva que calcule o maior divisor comum(mdc) entre dois números a e b, em que a > b."
      ],
      "metadata": {
        "id": "w3MQb__7FWu6"
      }
    },
    {
      "cell_type": "code",
      "source": [
        "a, b = [int(valor) for valor in input().split()]\n",
        "\n",
        "def definirMDC(a, b):\n",
        "    if b == 0:\n",
        "        return a\n",
        "    resto = a % b\n",
        "    a = b\n",
        "    b = resto\n",
        "    return definirMDC(a, b)  \n",
        "print(definirMDC(a, b))"
      ],
      "metadata": {
        "colab": {
          "base_uri": "https://localhost:8080/"
        },
        "outputId": "b0c7ae11-7ed8-4c46-d579-bcc3f0a383f7",
        "id": "uinPUxf6FWu7"
      },
      "execution_count": null,
      "outputs": [
        {
          "output_type": "stream",
          "name": "stdout",
          "text": [
            "8 3\n",
            "1\n"
          ]
        }
      ]
    },
    {
      "cell_type": "markdown",
      "source": [
        "Exercício 8.8\n",
        "\n",
        "usando a função mdc definida no exercício anterior, defina uma função para calcular o menor múltiplo comum(mmc)entre dois números."
      ],
      "metadata": {
        "id": "5vY58jsFHivF"
      }
    },
    {
      "cell_type": "code",
      "source": [
        "a, b = [int(valor) for valor in input().split()]\n",
        "\n",
        "def definirMDC(a, b):\n",
        "    if b == 0:\n",
        "        return a\n",
        "    resto = a % b\n",
        "    a = b\n",
        "    b = resto\n",
        "    return definirMDC(a, b)  \n",
        "\n",
        "def definirMMC(a, b):\n",
        "    calc = abs(a*b)/(definirMDC(a, b))\n",
        "    return calc\n",
        "\n",
        "print(definirMMC(a, b))"
      ],
      "metadata": {
        "colab": {
          "base_uri": "https://localhost:8080/"
        },
        "outputId": "3832bdee-c6f3-489b-e917-cb021f416640",
        "id": "4jHDjonFHivP"
      },
      "execution_count": null,
      "outputs": [
        {
          "output_type": "stream",
          "name": "stdout",
          "text": [
            "8 4\n",
            "8.0\n"
          ]
        }
      ]
    },
    {
      "cell_type": "markdown",
      "source": [
        "Exercício 8.9\n",
        "\n",
        "Rastreie o programa 8.6 e compare o seu resultado com o apresentado."
      ],
      "metadata": {
        "id": "_4gQfv1kJZze"
      }
    },
    {
      "cell_type": "code",
      "source": [
        "def soma(L):\n",
        "  total = 0\n",
        "  x = 0\n",
        "\n",
        "  for valor in L:\n",
        "    total += L[x]\n",
        "    print(total)\n",
        "    x += 1\n",
        "  return total\n",
        "\n",
        "L = [1, 7, 2, 9, 15]\n",
        "print(soma(L))\n",
        "print(soma([7,9,12,3,100,20,4]))\n"
      ],
      "metadata": {
        "colab": {
          "base_uri": "https://localhost:8080/"
        },
        "outputId": "addc6e0d-595f-4531-a513-8231e61705ce",
        "id": "n1HnvxSDJZzo"
      },
      "execution_count": null,
      "outputs": [
        {
          "output_type": "stream",
          "name": "stdout",
          "text": [
            "1\n",
            "8\n",
            "10\n",
            "19\n",
            "34\n",
            "34\n",
            "7\n",
            "16\n",
            "28\n",
            "31\n",
            "131\n",
            "151\n",
            "155\n",
            "155\n"
          ]
        }
      ]
    },
    {
      "cell_type": "markdown",
      "source": [
        "Exercício 8.10\n",
        "\n",
        "Reescreva a função para cálculo da sequência de Fibonacci, sem usar recursão."
      ],
      "metadata": {
        "id": "IeJyggYQKDUj"
      }
    },
    {
      "cell_type": "code",
      "source": [
        "n = int(input())\n",
        "\n",
        "def acharTermo(n):\n",
        "  if (n==1) or (n==2):\n",
        "      return 1\n",
        "  else:\n",
        "    return acharTermo(n-1) + acharTermo(n-2)\n",
        "\n",
        "print(acharTermo(n))\n",
        "\n",
        "\n"
      ],
      "metadata": {
        "colab": {
          "base_uri": "https://localhost:8080/"
        },
        "outputId": "1b745c30-2fdd-49be-b446-c5c30228c44c",
        "id": "UGXTqiY8KDUt"
      },
      "execution_count": null,
      "outputs": [
        {
          "output_type": "stream",
          "name": "stdout",
          "text": [
            "10\n",
            "55\n"
          ]
        }
      ]
    },
    {
      "cell_type": "markdown",
      "source": [
        "---"
      ],
      "metadata": {
        "id": "io0Z3ODyjIcV"
      }
    },
    {
      "cell_type": "markdown",
      "source": [
        "#[PRÁTICA - AULA 14] QUESTÃO 1\n",
        "\n",
        "Faça uma função que receba um número inteiro e positivo N como parâmetro e retorne a soma dos números inteiros existente entre o número 1 e N (inclusive).\n",
        "\n",
        "Entrada\n",
        "\n",
        "A entrada consiste em um número inteiro N.\n",
        "\n",
        "Saída\n",
        "\n",
        "A saída consiste em informar a soma dos números inteiros existentes entre 1 e N."
      ],
      "metadata": {
        "id": "IItToPNq2CLv"
      }
    },
    {
      "cell_type": "markdown",
      "source": [
        "#[PRÁTICA - AULA 14] QUESTÃO 2\n",
        "\n",
        "Faça uma função que receba três números inteiros como parâmetros, representando horas, minutos e segundos, e os converta em segundos.\n",
        "\n",
        "Entrada\n",
        "\n",
        "A entrada consiste em 3 números inteiros separados por espaço.\n",
        "\n",
        "Saída\n",
        "\n",
        "A saída consiste em informar o total das horas, minutos e segundos especificados convertidos em segundos."
      ],
      "metadata": {
        "id": "1IGr2NmF5CmE"
      }
    },
    {
      "cell_type": "code",
      "source": [
        "def nome(horas, minutos, segundos):\n",
        "    # DE HORAS PARA MINUTOS\n",
        "    x = horas * 60\n",
        "    mnt = x + minutos\n",
        "\n",
        "    # DE MINUTOS PARA SEGUNDOS\n",
        "    y = mnt * 60\n",
        "    seg = y + segundos\n",
        "\n",
        "    return seg\n",
        "\n",
        "x = input().split()\n",
        "horario = [int(valor) for valor in x]\n",
        "\n",
        "horas = horario[0]\n",
        "minutos = horario[1]\n",
        "segundos = horario[2]\n",
        "\n",
        "print(nome(horas, minutos, segundos))\n"
      ],
      "metadata": {
        "id": "Xmg0BLUd5CmH"
      },
      "execution_count": null,
      "outputs": []
    },
    {
      "cell_type": "markdown",
      "source": [
        "#[PRÁTICA - AULA 14] QUESTÃO 3\n",
        "\n",
        "Faça uma função que receba um valor inteiro e retorne se ele é positivo ou negativo.\n",
        "\n",
        "Entrada\n",
        "\n",
        "A entrada consiste em um valor inteiro N.\n",
        "\n",
        "Saída\n",
        "\n",
        "A saída consiste em informar se ele é POSITIVO ou NEGATIVO."
      ],
      "metadata": {
        "id": "iJwuSVoX8s74"
      }
    },
    {
      "cell_type": "code",
      "source": [
        "def vPositivo(num):\n",
        "    if (num > 0):\n",
        "        return \"POSITIVO\"\n",
        "    else:\n",
        "        return \"NEGATIVO\"\n",
        "\n",
        "num = int(input())\n",
        "print(vPositivo(num))\n"
      ],
      "metadata": {
        "id": "r1fjN-939WZZ"
      },
      "execution_count": null,
      "outputs": []
    },
    {
      "cell_type": "markdown",
      "source": [
        "#[PRÁTICA - AULA 14] QUESTÃO 4\n",
        "\n",
        "Faça uma função que receba por parâmetro dois valores X e Z, calcule e retorne X^Z sem utilizar funções ou operadores de potência prontos.\n",
        "\n",
        "Entrada\n",
        "\n",
        "A entrada consiste em dois valores inteiros separados por espaço.\n",
        "\n",
        "Saída\n",
        "\n",
        "A saída consiste em informar XZ."
      ],
      "metadata": {
        "id": "RaX4Xxw49odr"
      }
    },
    {
      "cell_type": "code",
      "source": [
        "def nome(x, z):\n",
        "    result = 1\n",
        "    for i in range(0, z):\n",
        "        result *= x\n",
        "    return result\n",
        "    \n",
        "entradas = input().split()\n",
        "numeros = [int(valor) for valor in entradas]\n",
        "\n",
        "x = numeros[0]\n",
        "z = numeros[1]\n",
        "\n",
        "print(nome(x, z))\n"
      ],
      "metadata": {
        "id": "GSO1NNpf9ods"
      },
      "execution_count": null,
      "outputs": []
    },
    {
      "cell_type": "markdown",
      "source": [
        "#[PRÁTICA - AULA 14] QUESTÃO 5\n",
        "\n",
        "Faça uma função para validar uma string. Essa função recebe como parâmetro a string, o número mínimo e o número máximo de caracteres. Retorne verdadeiro se o tamanho da string estiver entre os valores de máximo e mínimo, e falso, caso contrário.\n",
        "\n",
        "Entrada\n",
        "\n",
        "A entrada consiste em uma string e dois valores inteiros separados por espaço.\n",
        "\n",
        "Saída\n",
        "\n",
        "A saída consiste em informar True ou False.\n"
      ],
      "metadata": {
        "id": "dPlzkPF0skwq"
      }
    },
    {
      "cell_type": "code",
      "source": [
        "def vString(palavra, minimo, maximo):\n",
        "    if (minimo < len(palavra) < maximo):\n",
        "        resposta = \"True\"\n",
        "    else:\n",
        "        resposta = \"False\"\n",
        "    return resposta\n",
        "\n",
        "entradas = input().split()\n",
        "dados = [valor for valor in entradas]\n",
        "\n",
        "palavra = dados[0:len(dados)-2]\n",
        "minimo = int(dados[len(dados)-2])\n",
        "maximo = int(dados[len(dados)-1])\n",
        "\n",
        "palavra = \" \".join(palavra)\n",
        "\n",
        "print(vString(palavra, minimo, maximo))\n",
        "\n",
        "\n"
      ],
      "metadata": {
        "id": "9TFldh5kskwu"
      },
      "execution_count": null,
      "outputs": []
    },
    {
      "cell_type": "markdown",
      "source": [
        "---\n"
      ],
      "metadata": {
        "id": "qaM45VqliqEg"
      }
    },
    {
      "cell_type": "markdown",
      "source": [
        "# AULA\n"
      ],
      "metadata": {
        "id": "8AdI3LvDsELG"
      }
    },
    {
      "cell_type": "markdown",
      "source": [
        "#Parâmetros Opcionais"
      ],
      "metadata": {
        "id": "8iNh0CvYuT8u"
      }
    },
    {
      "cell_type": "code",
      "source": [
        "def soma(a, b, imprime = False):\n",
        "  s = a + b\n",
        "  if imprime:\n",
        "    print(s)\n",
        "  return s\n",
        "soma(2,3)\n",
        "soma(2,3,True)\n",
        "soma(2,3,False)"
      ],
      "metadata": {
        "colab": {
          "base_uri": "https://localhost:8080/"
        },
        "id": "IPPzolmFuWzu",
        "outputId": "414016c2-5cf4-44c7-dfde-65d66f4efea0"
      },
      "execution_count": null,
      "outputs": [
        {
          "output_type": "stream",
          "name": "stdout",
          "text": [
            "5\n"
          ]
        },
        {
          "output_type": "execute_result",
          "data": {
            "text/plain": [
              "5"
            ]
          },
          "metadata": {},
          "execution_count": 3
        }
      ]
    },
    {
      "cell_type": "code",
      "source": [
        "def retangulo(largura, altura, caractere=\"*\"):\n",
        "  linha = caractere * altura\n",
        "  for i in range(altura):\n",
        "    print(linha)\n",
        "\n",
        "retangulo(3,4)\n",
        "retangulo(largura=3,altura=4)\n",
        "retangulo(altura=4,largura=3)\n",
        "retangulo(caractere=\"-\",altura=4,largura=3)"
      ],
      "metadata": {
        "colab": {
          "base_uri": "https://localhost:8080/"
        },
        "id": "XBR4UQc5v-em",
        "outputId": "1f7edd32-a00f-4482-8e2c-14553f5817d1"
      },
      "execution_count": null,
      "outputs": [
        {
          "output_type": "stream",
          "name": "stdout",
          "text": [
            "----\n",
            "----\n",
            "----\n",
            "----\n"
          ]
        }
      ]
    },
    {
      "cell_type": "code",
      "source": [
        "def soma(a, b):\n",
        "  return a+b\n",
        "def subtracao(a, b):\n",
        "  return a-b\n",
        "def mult(a, b):\n",
        "  return a*b\n",
        "def div(a, b):\n",
        "  return a/b\n",
        "def modulo(a, b):\n",
        "  return a%b\n",
        "\n",
        "def imprime(a, b, foper):\n",
        "  print(foper(a,b))\n",
        "\n",
        "imprime(5, 4,soma)\n",
        "imprime(10, 1,subtracao)\n",
        "imprime(4, 2,mult)\n",
        "imprime(3, 7,div)\n",
        "imprime(6, 9,modulo)\n"
      ],
      "metadata": {
        "id": "31-nbq4wySnw"
      },
      "execution_count": null,
      "outputs": []
    },
    {
      "cell_type": "code",
      "source": [
        "def imprimeLista(L, fImpressao, fCondicao):\n",
        "  for e in L:\n",
        "    if fCondicao(e):\n",
        "        fImpressao(e)\n",
        "def imprimeElemento(e):\n",
        "  print(f\"Valor: {e}\")\n",
        "def ehPar(x):\n",
        "  return x % 2 == 0\n",
        "def ehImpar(x):\n",
        "  return not ehPar(x)\n",
        "\n",
        "L = [1, 7, 9, 2, 11, 0]\n",
        "imprimeLista(L, imprimeElemento, ehPar)\n",
        "imprimeLista(L, imprimeElemento, ehImpar)"
      ],
      "metadata": {
        "colab": {
          "base_uri": "https://localhost:8080/"
        },
        "id": "SLjMIPlK1Aag",
        "outputId": "16198e6a-7497-42c7-8f5d-3a036ed5cbf1"
      },
      "execution_count": null,
      "outputs": [
        {
          "output_type": "stream",
          "name": "stdout",
          "text": [
            "Valor: 2\n",
            "Valor: 0\n",
            "Valor: 1\n",
            "Valor: 7\n",
            "Valor: 9\n",
            "Valor: 11\n"
          ]
        }
      ]
    },
    {
      "cell_type": "code",
      "source": [
        "def soma(*args):\n",
        "  s = 0\n",
        "  for i in args:\n",
        "    s += i\n",
        "  return s \n",
        "\n",
        "soma(1,2)\n",
        "soma(2)\n",
        "soma(5,6,7,8)\n",
        "soma(9,10,20,30,40)"
      ],
      "metadata": {
        "id": "8utrwT0F7ASu"
      },
      "execution_count": null,
      "outputs": []
    },
    {
      "cell_type": "code",
      "source": [
        "def imprimeMaior(mensagem, *numeros):\n",
        "  maior = None\n",
        "  for e in numeros:\n",
        "    if (maior is None) or (maior < e):\n",
        "      maior = e\n",
        "  print(mensagem, maior)\n",
        "\n",
        "imprimeMaior(\"Maior\", 5, 4, 3, 1)\n",
        "imprimeMaior(\"Max\", *[1,7,9])"
      ],
      "metadata": {
        "colab": {
          "base_uri": "https://localhost:8080/"
        },
        "id": "6gpLYfP57VIJ",
        "outputId": "e807e340-d102-43b1-df5b-db7e7732af1e"
      },
      "execution_count": null,
      "outputs": [
        {
          "output_type": "stream",
          "name": "stdout",
          "text": [
            "Maior 5\n",
            "Max 9\n"
          ]
        }
      ]
    },
    {
      "cell_type": "code",
      "source": [
        "a = lambda x: x*2\n",
        "print(a(3))\n",
        "\n",
        "aumento = lambda a,b:(a*b/100)\n",
        "print(aumento(100,5))\n",
        "\n",
        "L = [\"A\", \"b\", \"C\", \"d\", \"E\"]\n",
        "L.sort()\n",
        "L.sort(key=lambda k: k.lower())\n",
        "print(L)\n",
        "\n",
        "quadrado = lambda num: num*num\n",
        "print(quadrado(5))"
      ],
      "metadata": {
        "colab": {
          "base_uri": "https://localhost:8080/"
        },
        "id": "okvnBOsfHMWs",
        "outputId": "f982bfa5-4fdd-4ef1-8233-c230cdc54d89"
      },
      "execution_count": null,
      "outputs": [
        {
          "output_type": "stream",
          "name": "stdout",
          "text": [
            "6\n",
            "5.0\n",
            "['A', 'b', 'C', 'd', 'E']\n",
            "25\n"
          ]
        }
      ]
    },
    {
      "cell_type": "markdown",
      "source": [
        "# Exercícios"
      ],
      "metadata": {
        "id": "qwYVNG7jL0WO"
      }
    },
    {
      "cell_type": "markdown",
      "source": [
        "## Livro - Questão 7"
      ],
      "metadata": {
        "id": "roQWZtC4NAm9"
      }
    },
    {
      "cell_type": "code",
      "source": [
        "def nome(nota1, nota2, nota3, letra):\n",
        "  if letra == 'A':\n",
        "    media = (nota1+nota2+nota3)/3\n",
        "  elif letra == 'P':\n",
        "    media = ((nota1*5)+(nota2*3)+(nota3*2))/(5+3+2)\n",
        "  return media\n",
        "\n",
        "print(nome(8, 9, 4, 'P'))\n"
      ],
      "metadata": {
        "colab": {
          "base_uri": "https://localhost:8080/"
        },
        "id": "5E2jKk16M8YW",
        "outputId": "43d39083-b61b-4695-cf1a-da6632795586"
      },
      "execution_count": null,
      "outputs": [
        {
          "output_type": "stream",
          "name": "stdout",
          "text": [
            "7.5\n"
          ]
        }
      ]
    },
    {
      "cell_type": "markdown",
      "source": [
        "## Livro - Questão 9\n",
        "\n",
        "Quantidade indeterminada de valores"
      ],
      "metadata": {
        "id": "_IN6E5VaNQhi"
      }
    },
    {
      "cell_type": "code",
      "source": [
        "def nome(*valor):\n",
        "  maior = None\n",
        "\n",
        "  for num in valor:\n",
        "    if (maior is None) or (maior < num):\n",
        "      maior = num\n",
        "  return maior\n",
        "\n",
        "print(nome(6, 4, 3, 1, 2, 7))"
      ],
      "metadata": {
        "colab": {
          "base_uri": "https://localhost:8080/"
        },
        "id": "XxNLPeqFNQhj",
        "outputId": "b2be8241-cf36-4aea-b11c-3471069f16e3"
      },
      "execution_count": null,
      "outputs": [
        {
          "output_type": "stream",
          "name": "stdout",
          "text": [
            "7\n"
          ]
        }
      ]
    },
    {
      "cell_type": "markdown",
      "source": [
        "## Livro - Questão 11\n",
        "\n",
        "Quantidade indeterminada de valores"
      ],
      "metadata": {
        "id": "vSop9BpQNuPP"
      }
    },
    {
      "cell_type": "code",
      "source": [
        "indicesOlhos = []\n",
        "sexo, olhos, cabelos, idade = []\n",
        "for i in range(0, 2):\n",
        "  dados = [valor for valor in input().split()]\n",
        "\n",
        "  #ENTRADA F C L 45\n",
        "  #ENTRADA M P P 14\n",
        "  sexo.append(dados[0])\n",
        "  olhos.append(dados[1])\n",
        "  cabelos.append(dados[2])\n",
        "  idade.append(dados[3])\n",
        "\n",
        "for e in olhos:\n",
        "  indicesOlhos.append(olhos.index('C' or 'P'))\n",
        "print(indicesOlhos)\n",
        "\n"
      ],
      "metadata": {
        "colab": {
          "base_uri": "https://localhost:8080/"
        },
        "id": "ZWzu6Zw2NuPQ",
        "outputId": "1329b262-97f1-47b3-b96c-9a6048586074"
      },
      "execution_count": null,
      "outputs": [
        {
          "output_type": "stream",
          "name": "stdout",
          "text": [
            "5 6 4 8 9\n",
            "[5, 6, 4, 8, 9]\n"
          ]
        }
      ]
    },
    {
      "cell_type": "markdown",
      "source": [
        "## Livro - Questão 12\n",
        "\n",
        "Quantidade indeterminada de valores"
      ],
      "metadata": {
        "id": "Y8Ttl5F6Nu1K"
      }
    },
    {
      "cell_type": "code",
      "source": [
        "from collections import Counter\n",
        "import re\n",
        "\n",
        "\n",
        "entrada = input()\n",
        "\n",
        "lista = re.split(\"(\\S{3})\", entrada)\n",
        "cartas = list(filter(None, lista))\n",
        "# print('{}'.format(cartas))\n",
        "\n",
        "paus = []\n",
        "copas = []\n",
        "ouros = []\n",
        "espadas = []\n",
        "nova_string = []\n",
        "esperado = [1, 2, 3, 4, 5, 6, 7, 8, 9, 10, 11, 12, 13]\n",
        "cartas_faltando_paus = []\n",
        "cartas_faltando_ouros = []\n",
        "cartas_faltando_copas = []\n",
        "cartas_faltando_espadas = []\n",
        "\n",
        "duplicadas_paus = []\n",
        "duplicadas_ouros = []\n",
        "duplicadas_copas = []\n",
        "duplicadas_espadas = []\n",
        "for e in range(len(cartas)):\n",
        "    lista2 = re.split(\"(\\S{2})\", cartas[e])\n",
        "    seila = list(filter(None, lista2))\n",
        "    # print('{}'.format(seila))\n",
        "\n",
        "    nova_string.append(seila)\n",
        "    if seila[1] == 'P':\n",
        "        paus.append(int(seila[0]))\n",
        "        cartas_faltando_paus = list(esperado) - list(paus)\n",
        "        q_cartas_faltantes_paus = len(cartas_faltando_paus)\n",
        "\n",
        "        d = Counter(paus)\n",
        "        for numero, repeticoes in d.items():\n",
        "            if repeticoes > 1:\n",
        "                duplicadas_paus = [indice for indice,\n",
        "                                   item in enumerate(paus) if item == numero]\n",
        "\n",
        "    elif seila[1] == 'C':\n",
        "        copas.append(int(seila[0]))\n",
        "        cartas_faltando_copas = list(esperado) - list(copas)\n",
        "        q_cartas_faltantes_copas = len(cartas_faltando_copas)\n",
        "\n",
        "        d = Counter(copas)\n",
        "        for numero, repeticoes in d.items():\n",
        "            if repeticoes > 1:\n",
        "                duplicadas_copas = [indice for indice,\n",
        "                                    item in enumerate(copas) if item == numero]\n",
        "\n",
        "    elif seila[1] == 'U':\n",
        "        ouros.append(int(seila[0]))\n",
        "        cartas_faltando_ouros = list(esperado) - list(ouros)\n",
        "        q_cartas_faltantes_ouros = len(cartas_faltando_ouros)\n",
        "\n",
        "        d = Counter(ouros)\n",
        "        for numero, repeticoes in d.items():\n",
        "            if repeticoes > 1:\n",
        "                duplicadas_ouros = [indice for indice,\n",
        "                                    item in enumerate(ouros) if item == numero]\n",
        "\n",
        "    elif seila[1] == 'E':\n",
        "        espadas.append(int(seila[0]))\n",
        "        cartas_faltando_espadas = list(esperado) - list(espadas)\n",
        "        q_cartas_faltantes_espadas = len(cartas_faltando_espadas)\n",
        "\n",
        "        d = Counter(espadas)\n",
        "        for numero, repeticoes in d.items():\n",
        "            if repeticoes > 1:\n",
        "                duplicadas_espadas = [indice for indice,\n",
        "                                      item in enumerate(espadas) if item == numero]\n",
        "\n",
        "    else:\n",
        "        print(\"0\")\n",
        "\n",
        "\n",
        "if q_cartas_faltantes_paus or q_cartas_faltantes_copas or q_cartas_faltantes_ouros or q_cartas_faltantes_espadas == 0:\n",
        "    print(\"0\")\n",
        "\n",
        "elif len(duplicadas_paus) or len(duplicadas_copas) or len(duplicadas_ouros) or len(duplicadas_espadas) > 0:\n",
        "    print(\"erro\")\n",
        "\n",
        "else:\n",
        "    print(q_cartas_faltantes_copas)\n",
        "    print(q_cartas_faltantes_espadas)\n",
        "    print(q_cartas_faltantes_ouros)\n",
        "    print(q_cartas_faltantes_paus)\n",
        "\n"
      ],
      "metadata": {
        "colab": {
          "base_uri": "https://localhost:8080/",
          "height": 252
        },
        "id": "A_6Ahz2hjMey",
        "outputId": "e2d2afff-e7d0-4f87-89a4-a254f3c9bac8"
      },
      "execution_count": null,
      "outputs": [
        {
          "name": "stdout",
          "output_type": "stream",
          "text": [
            "01C02C03C04C05C07C09C10C11C02E02E03E11U\n"
          ]
        },
        {
          "output_type": "error",
          "ename": "TypeError",
          "evalue": "ignored",
          "traceback": [
            "\u001b[0;31m---------------------------------------------------------------------------\u001b[0m",
            "\u001b[0;31mTypeError\u001b[0m                                 Traceback (most recent call last)",
            "\u001b[0;32m<ipython-input-28-782a1d9e61e1>\u001b[0m in \u001b[0;36m<module>\u001b[0;34m()\u001b[0m\n\u001b[1;32m     43\u001b[0m     \u001b[0;32melif\u001b[0m \u001b[0mseila\u001b[0m\u001b[0;34m[\u001b[0m\u001b[0;36m1\u001b[0m\u001b[0;34m]\u001b[0m \u001b[0;34m==\u001b[0m \u001b[0;34m'C'\u001b[0m\u001b[0;34m:\u001b[0m\u001b[0;34m\u001b[0m\u001b[0;34m\u001b[0m\u001b[0m\n\u001b[1;32m     44\u001b[0m         \u001b[0mcopas\u001b[0m\u001b[0;34m.\u001b[0m\u001b[0mappend\u001b[0m\u001b[0;34m(\u001b[0m\u001b[0mint\u001b[0m\u001b[0;34m(\u001b[0m\u001b[0mseila\u001b[0m\u001b[0;34m[\u001b[0m\u001b[0;36m0\u001b[0m\u001b[0;34m]\u001b[0m\u001b[0;34m)\u001b[0m\u001b[0;34m)\u001b[0m\u001b[0;34m\u001b[0m\u001b[0;34m\u001b[0m\u001b[0m\n\u001b[0;32m---> 45\u001b[0;31m         \u001b[0mcartas_faltando_copas\u001b[0m \u001b[0;34m=\u001b[0m \u001b[0mlist\u001b[0m\u001b[0;34m(\u001b[0m\u001b[0mesperado\u001b[0m\u001b[0;34m)\u001b[0m \u001b[0;34m-\u001b[0m \u001b[0mlist\u001b[0m\u001b[0;34m(\u001b[0m\u001b[0mcopas\u001b[0m\u001b[0;34m)\u001b[0m\u001b[0;34m\u001b[0m\u001b[0;34m\u001b[0m\u001b[0m\n\u001b[0m\u001b[1;32m     46\u001b[0m         \u001b[0mq_cartas_faltantes_copas\u001b[0m \u001b[0;34m=\u001b[0m \u001b[0mlen\u001b[0m\u001b[0;34m(\u001b[0m\u001b[0mcartas_faltando_copas\u001b[0m\u001b[0;34m)\u001b[0m\u001b[0;34m\u001b[0m\u001b[0;34m\u001b[0m\u001b[0m\n\u001b[1;32m     47\u001b[0m \u001b[0;34m\u001b[0m\u001b[0m\n",
            "\u001b[0;31mTypeError\u001b[0m: unsupported operand type(s) for -: 'list' and 'list'"
          ]
        }
      ]
    },
    {
      "cell_type": "markdown",
      "source": [
        "---"
      ],
      "metadata": {
        "id": "egoPTQjkjeLp"
      }
    },
    {
      "cell_type": "markdown",
      "source": [
        "# [AVALIAÇÃO 3 - UN 2] QUESTÃO 1\n",
        "\n",
        "A prefeitura de uma cidade fez uma pesquisa entre seus habitantes, coletando dados sobre o salário e o número de filhos. Faça uma função que leia esses dados para um número determinado de pessoas N e retorne a média de salário da população, a média do número de filhos, o maior salário e o percentual de pessoas com salário inferior a R$ 1212.00.\n",
        "* Entrada\n",
        "\n",
        "A entrada consiste em uma linha contendo a quantidade de habitantes, seguida pelas informações de salário e filho separadas por espaço.\n",
        "\n",
        "* Saída\n",
        "\n",
        "A saída deverá seguir a ordem do que foi solicitado no enunciado e exibir o que foi pedido da seguinte maneira:\n",
        "\n",
        "*   média de salário da população: MÉDIA SALARIAL = R$ 1212.00\n",
        "\n",
        "*   média do número de filhos: MÉDIA FILHOS = 2\n",
        "\n",
        "*   maior salário entre os habitantes: MAIOR SALÁRIO = R$ 2500.00\n",
        "\n",
        "*   percentual de pessoas com salário inferior a R$ 1212.00: PERCENTUAL = 10.00%\n",
        "\n",
        "\n",
        "\n",
        "\n"
      ],
      "metadata": {
        "id": "CZTtyOj6jeKR"
      }
    },
    {
      "cell_type": "code",
      "source": [
        "def med(valor):\n",
        "    media = sum(valor)/len(valor)\n",
        "    return media\n",
        "\n",
        "\n",
        "def maior(valor):\n",
        "    maiorValor = max(valor)\n",
        "    return maiorValor\n",
        "\n",
        "\n",
        "def porc(valor, num):\n",
        "    porcent = (100*valor)/num\n",
        "    return porcent\n",
        "\n",
        "\n",
        "num = int(input())\n",
        "salarios = []\n",
        "filhos = []\n",
        "pessoas = 0\n",
        "\n",
        "for i in range(0, num):\n",
        "    lista = []\n",
        "    lista = [i for i in input().split()]\n",
        "\n",
        "    salarios.append(float(lista[0]))\n",
        "    filhos.append(int(lista[1]))\n",
        "\n",
        "for e in salarios:\n",
        "    if (e < 1212.00):\n",
        "        pessoas += 1\n",
        "\n",
        "print(f\"MÉDIA SALARIAL = R$ {med(salarios):.2f}\")\n",
        "print(f\"MÉDIA FILHOS = {med(filhos):.1f}\")\n",
        "print(f\"MAIOR SALÁRIO = R$ {maior(salarios):.2f}\")\n",
        "print(f\"PERCENTUAL = {porc(pessoas, num):.2f}%\")"
      ],
      "metadata": {
        "id": "Jwm6Ol9Mj8r9"
      },
      "execution_count": null,
      "outputs": []
    },
    {
      "cell_type": "markdown",
      "source": [
        "# [AVALIAÇÃO 3 - UN 2] QUESTÃO 2\n",
        "Faça uma função que receba uma matriz quadrada NxN e determine o maior elemento acima da diagonal principal. A saída do programa deve exibir este valor.\n",
        "* Entrada\n",
        "\n",
        "A entrada consiste em uma linha contendo o tamanho da matriz, seguida pelos valores numéricos inteiros armazenados na matriz, exibidos em formato de matriz.\n",
        "\n",
        "* Saída\n",
        "\n",
        "A saída consiste no elemento de maior valor acima da diagonal principal da matriz."
      ],
      "metadata": {
        "id": "c8naPfHNkIrN"
      }
    },
    {
      "cell_type": "code",
      "source": [
        "def maior(valor):\n",
        "    acima = []\n",
        "    for l in range(0, tam):\n",
        "        for c in range(0, tam):\n",
        "            if (l < c):\n",
        "                acima.append(valores[l][c])\n",
        "    return max(acima)\n",
        "\n",
        "\n",
        "tam = int(input())\n",
        "valores = []\n",
        "for i in range(0, tam):\n",
        "    lista = [int(valor) for valor in input().split()]\n",
        "    valores.append(lista)\n",
        "\n",
        "print(maior(valores))"
      ],
      "metadata": {
        "colab": {
          "base_uri": "https://localhost:8080/"
        },
        "id": "Bg2F6jdpkJZK",
        "outputId": "12ca33ab-03ea-404f-c707-1dd6a564f926"
      },
      "execution_count": null,
      "outputs": [
        {
          "output_type": "stream",
          "name": "stdout",
          "text": [
            "4\n",
            "10 20 30 40\n",
            "50 60 70 80\n",
            "90 15 25 35\n",
            "45 55 65 75\n",
            "80\n"
          ]
        }
      ]
    },
    {
      "cell_type": "markdown",
      "source": [
        "# [AVALIAÇÃO 3 - UN 2] QUESTÃO 3\n",
        "\n",
        "Seu chefe está ao telefone, nervoso. Ele quer que você compute a soma de uma sequência de números que ele vai falar para você ao telefone, para saber o total das vendas em sua mais recente viagem de negócios.\n",
        "\n",
        "Infelizmente, de vez em quando seu chefe fala números errados para você ao telefone.\n",
        "\n",
        "Felizmente, seu chefe rapidamente percebe que falou um número errado e diz \"zero\", que como combinado previamente quer dizer ignore o último número corrente.\n",
        "\n",
        "Infelizmente, seu chefe pode cometer erros repetidos, e diz \"zero\" para cada erro.\n",
        "\n",
        "Por exemplo, seu chefe pode falar ao telefone \"Um, três, cinco, quatro, zero, zero, sete, zero, zero, seis\", o que significa uma soma total igual a 7, conforme explicado na tabela abaixo:\n",
        "![Captura de tela de 2022-09-10 15-04-18.png](data:image/png;base64,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)\n",
        "\n",
        "Para não deixar seu chefe ainda mais nervoso, escreva uma função que determine a soma total dos números falados por seu chefe ao telefone.\n",
        "\n",
        "* Entrada\n",
        "\n",
        "A primeira linha da entrada contém um inteiro N, a quantidade de números inteiros (incluindo os \"zeros\") que o seu chefe falou ao telefone. Cada uma das N linhas seguintes contém um número inteiro Xi.\n",
        "\n",
        "* Saída\n",
        "\n",
        "Seu programa deve produzir uma única linha na saída, contendo um único inteiro, a soma correta dos números, levando em conta que o valor 0 significa erro, conforme descrito.\n",
        "\n",
        "**Restrições**\n",
        "\n",
        "1 ≤ N ≤ 100 000\n",
        "\n",
        "0 ≤ Xi ≤ 100, para (1 ≤ i ≤ N)\n",
        "\n",
        "0 ≤ resultado ≤ 1 000 000"
      ],
      "metadata": {
        "id": "2x_F0NZOklsx"
      }
    },
    {
      "cell_type": "code",
      "source": [
        "def chefeSoma(valores):\n",
        "    for i in range(0, tam):\n",
        "        valores.append(int(input()))\n",
        "        for e in valores:\n",
        "            if (e == 0):\n",
        "                valores.pop()\n",
        "                valores.pop()\n",
        "    return sum(valores)\n",
        "\n",
        "\n",
        "lista = []\n",
        "tam = int(input())\n",
        "\n",
        "print(chefeSoma(lista))"
      ],
      "metadata": {
        "colab": {
          "base_uri": "https://localhost:8080/"
        },
        "id": "okwroHZ1klQq",
        "outputId": "0e00c9b7-e72d-4e7f-b9c8-d16a64c7fc87"
      },
      "execution_count": null,
      "outputs": [
        {
          "output_type": "stream",
          "name": "stdout",
          "text": [
            "10\n",
            "1\n",
            "3\n",
            "5\n",
            "4\n",
            "0\n",
            "0\n",
            "7\n",
            "0\n",
            "0\n",
            "6\n",
            "7\n"
          ]
        }
      ]
    },
    {
      "cell_type": "markdown",
      "source": [
        "# [AVALIAÇÃO 3 - UN 2] QUESTÃO 4 NÃO CONSEGUI\n",
        "\n",
        "Uma gráfica iniciou a produção de cartas de baralho. Cada baralho produzido deve ser um baralho completo, ou seja, deve ter exatamente 52 cartas, compreendendo quatro naipes (Copas, Espadas, Ouros e Paus), com treze cartas em cada naipe (Ás, 2, 3, 4, 5, 6, 7, 8, 9, 10, Valete, Dama e Rei).\n",
        "\n",
        "Um robô coleta cartas produzidas pelas máquinas impressoras e cortadoras e as agrupa em conjuntos de 52 cartas, preparando o baralho para ser embalado para venda. A empresa deseja garantir que cada baralho embalado seja um baralho completo e precisa de sua ajuda.\n",
        "\n",
        "Dada a lista das cartas de um baralho pronto para ser embalado, escreva um programa para verificar se há cartas faltando ou duplicadas no baralho.\n",
        "\n",
        "* Entrada\n",
        "\n",
        "A primeira linha da entrada contém uma cadeia de caracteres que descreve as cartas do baralho. Cada carta é descrita usando três caracteres, no formato ddN onde dd são dois dígitos decimais (de 01, representando a carta Ás, a 13, representanto a carta Rei) e N é um caractere entre C, E, U e P, representando respectivamente os naipes Copas, Espadas, Ouros e Paus). Note que o caractere que representa o naipe Ouros é U (e não O), para não confundir com o dígito zero.\n",
        "\n",
        "* Saída\n",
        "\n",
        "Seu programa deve produzir exatamente quatro linhas na saída, cada linha correspondendo aos naipes Copas, Espadas, Ouros, e Paus, nessa ordem. Para cada naipe, se o conjunto de cartas está completo (ou seja, se exatamente 13 cartas com valores de 01, 02, 03, …, 12, 13 estão presentes), seu programa deve produzir o valor 0; se o conjunto de cartas tem alguma carta duplicada, seu programa deve produzir a palavra erro; se o conjunto de cartas tem cartas faltando, seu programa deve imprimir o número de cartas que faltam.\n",
        "\n",
        "**Restrições**\n",
        "\n",
        "* 3 ≤ comprimento da cadeia de caracteres na entrada ≤ 156\n",
        "* para toda carta ddN, 01 ≤ dd ≤ 13 e N é C, E, U ou P."
      ],
      "metadata": {
        "id": "6UOJO4OLlYpP"
      }
    },
    {
      "cell_type": "code",
      "source": [
        "\n",
        "lista = re.split(\"(\\S{3})\", entrada)\n",
        "cartas = list(filter(None, lista))\n",
        "# print('{}'.format(cartas))\n",
        "\n",
        "paus = []\n",
        "copas = []\n",
        "ouros = []\n",
        "espadas = []\n",
        "nova_string = []\n",
        "esperado = [1, 2, 3, 4, 5, 6, 7, 8, 9, 10, 11, 12, 13]\n",
        "cartas_faltando_paus = []\n",
        "cartas_faltando_ouros = []\n",
        "cartas_faltando_copas = []\n",
        "cartas_faltando_espadas = []\n",
        "\n",
        "duplicadas_paus = []\n",
        "duplicadas_ouros = []\n",
        "duplicadas_copas = []\n",
        "duplicadas_espadas = []\n",
        "for e in range(len(cartas)):\n",
        "    lista2 = re.split(\"(\\S{2})\", cartas[e])\n",
        "    seila = list(filter(None, lista2))\n",
        "    # print('{}'.format(seila))\n",
        "\n",
        "    nova_string.append(seila)\n",
        "    if seila[1] == 'P':\n",
        "        paus.append(int(seila[0]))\n",
        "        cartas_faltando_paus = list(esperado) - list(paus)\n",
        "        q_cartas_faltantes_paus = len(cartas_faltando_paus)\n",
        "\n",
        "        d = Counter(paus)\n",
        "        for numero, repeticoes in d.items():\n",
        "            if repeticoes > 1:\n",
        "                duplicadas_paus = [indice for indice,\n",
        "                                   item in enumerate(paus) if item == numero]\n",
        "\n",
        "    elif seila[1] == 'C':\n",
        "        copas.append(int(seila[0]))\n",
        "        cartas_faltando_copas = list(esperado) - list(copas)\n",
        "        q_cartas_faltantes_copas = len(cartas_faltando_copas)\n",
        "\n",
        "        d = Counter(copas)\n",
        "        for numero, repeticoes in d.items():\n",
        "            if repeticoes > 1:\n",
        "                duplicadas_copas = [indice for indice,\n",
        "                                    item in enumerate(copas) if item == numero]\n",
        "\n",
        "    elif seila[1] == 'U':\n",
        "        ouros.append(int(seila[0]))\n",
        "        cartas_faltando_ouros = list(esperado) - list(ouros)\n",
        "        q_cartas_faltantes_ouros = len(cartas_faltando_ouros)\n",
        "\n",
        "        d = Counter(ouros)\n",
        "        for numero, repeticoes in d.items():\n",
        "            if repeticoes > 1:\n",
        "                duplicadas_ouros = [indice for indice,\n",
        "                                    item in enumerate(ouros) if item == numero]\n",
        "\n",
        "    elif seila[1] == 'E':\n",
        "        espadas.append(int(seila[0]))\n",
        "        cartas_faltando_espadas = list(esperado) - list(espadas)\n",
        "        q_cartas_faltantes_espadas = len(cartas_faltando_espadas)\n",
        "\n",
        "        d = Counter(espadas)\n",
        "        for numero, repeticoes in d.items():\n",
        "            if repeticoes > 1:\n",
        "                duplicadas_espadas = [indice for indice,\n",
        "                                      item in enumerate(espadas) if item == numero]\n",
        "\n",
        "    else:\n",
        "        print(\"0\")\n",
        "\n",
        "\n",
        "if q_cartas_faltantes_paus or q_cartas_faltantes_copas or q_cartas_faltantes_ouros or q_cartas_faltantes_espadas == 0:\n",
        "    print(\"0\")\n",
        "\n",
        "elif len(duplicadas_paus) or len(duplicadas_copas) or len(duplicadas_ouros) or len(duplicadas_espadas) > 0:\n",
        "    print(\"erro\")\n",
        "\n",
        "else:\n",
        "    print(q_cartas_faltantes_copas)\n",
        "    print(q_cartas_faltantes_espadas)\n",
        "    print(q_cartas_faltantes_ouros)\n",
        "    print(q_cartas_faltantes_paus)\n",
        "\n",
        "# receber uma cadeia de caracteres, uma string gigantona\n",
        "# separar a string de tres em tres\n",
        "# fazer uma lista para cada conjunto de tres valores\n",
        "# se o último valor for igual a 'P', armazenar os primeiros dois valores na lista \"Paus\""
      ],
      "metadata": {
        "id": "SJyIbG0DlYbx"
      },
      "execution_count": null,
      "outputs": []
    },
    {
      "cell_type": "markdown",
      "source": [
        "# [AVALIAÇÃO 3 - UN 2] QUESTÃO 5 NÃO CONSEGUI\n",
        "\n",
        "A prefeitura contratou um novo professor para ensinar as crianças do bairro a jogar tênis na quadra de tênis do parque municipal. O professor convidou todas as crianças do bairro interessadas em aprender a jogar tênis. Ao final do primeiro mês de aulas e treinamentos foi organizado um torneio em que cada participante disputou exatamente seis jogos. O professor vai usar o desempenho no torneio para separar as crianças em três grupos, de forma a ter grupos de treino em que os participantes tenham habilidades mais ou menos iguais, usando o seguinte critério:\n",
        "\n",
        "* participantes que venceram 5 ou 6 jogos serão colocados no Grupo 1;\n",
        "* participantes que venceram 3 ou 4 jogos serão colocados no Grupo 2;\n",
        "* participantes que venceram 1 ou 2 jogos serão colocados no Grupo 3;\n",
        "* participantes que não venceram nenhum jogo não serão convidados a continuar com os treinamentos.\n",
        "\n",
        "Dada uma lista com o resultado dos jogos de um participante, escreva uma função para determinar em qual grupo ele será colocado.\n",
        "\n",
        "* Entrada\n",
        "\n",
        "A entrada consiste de seis linhas, cada linha indicando o resultado de um jogo do participante. Cada linha contém um único caractere: V se o participante venceu o jogo, ou P se o jogador perdeu o jogo. Não há empates nos jogos.\n",
        "\n",
        "* Saída\n",
        "\n",
        "Seu programa deve produzir uma única linha na saída, contendo um único inteiro, identificando o grupo em que o participante será colocado. Se o participante não for colocado em nenhum dos três grupos seu programa deve imprimir o valor -1."
      ],
      "metadata": {
        "id": "eLDixPpxl30m"
      }
    },
    {
      "cell_type": "code",
      "source": [
        "def definirGrupo(valor):\n",
        "    venceu = 0\n",
        "    perdeu = 0\n",
        "    grupo = 0\n",
        "    for e in valor:\n",
        "        if (e == \"V\") or (e == \"v\"):\n",
        "            venceu += 1\n",
        "        else:\n",
        "            perdeu += 1\n",
        "\n",
        "    if 5 <= venceu <= 6:\n",
        "        grupo = 1\n",
        "    elif 3 <= venceu <= 4:\n",
        "        grupo = 2\n",
        "    elif 1 <= venceu <= 2:\n",
        "        grupo = 3\n",
        "    elif venceu == 0:\n",
        "        grupo = -1\n",
        "\n",
        "    return grupo\n",
        "\n",
        "\n",
        "result = []\n",
        "for i in range(0, 6):\n",
        "    result.append(input())\n",
        "\n",
        "print(definirGrupo(result))"
      ],
      "metadata": {
        "id": "yNAANrObl3Td"
      },
      "execution_count": null,
      "outputs": []
    },
    {
      "cell_type": "markdown",
      "source": [
        "# [AVALIAÇÃO 3 - UN 2] QUESTÃO 6\n",
        "\n",
        "Algumas pessoas conseguem fazer cálculos matemáticos com uma velocidade impressionante. Laurinha tem essa habilidade! Um cálculo que ela consegue fazer muito rapidamente é, dados três números inteiros S, A, e B, determinar quantos números do intervalo [A, B] têm a soma de seus dígitos igual a S.\n",
        "\n",
        "Por exemplo, se S = 3, A = 10 e B = 30, então a reposta é 3, pois existem três números no intervalo [10,30] cuja soma dos dígitos é igual a três: 12, 21 e 30.\n",
        "\n",
        "Sua tarefa é escrever uma função para, dados os três números, tentar calcular a resposta mais rapidamente do que Laurinha consegue.\n",
        "\n",
        "* Entrada\n",
        "\n",
        "A primeira linha da entrada contém um número inteiro S, o valor da soma dos dígitos. A segunda e a terceira linhas contêm respectivamente os inteiros A e B.\n",
        "\n",
        "* Saída\n",
        "\n",
        "Seu programa deve produzir uma única linha, contendo um único inteiro, quantos números no intervalo dado têm a soma de dígitos indicada."
      ],
      "metadata": {
        "id": "bLRbxOh8mRkk"
      }
    },
    {
      "cell_type": "code",
      "source": [
        "def sum_alg(valor):\n",
        "    a = 0\n",
        "    for n in range(len(str(valor))):\n",
        "        n = valor // 10 ** n % 10\n",
        "        a = a + n\n",
        "        n = n / 10\n",
        "    return a\n",
        "\n",
        "\n",
        "def acorda_aninha(z, x, y):\n",
        "    intervalo = []\n",
        "    for i in range(x, y+1):\n",
        "        intervalo.append(i)\n",
        "\n",
        "    somas = []\n",
        "    for numero in intervalo:\n",
        "        somas.append(sum_alg(numero))\n",
        "\n",
        "    contador = 0\n",
        "    for e in somas:\n",
        "        if (e == z):\n",
        "            contador += 1\n",
        "\n",
        "    return contador\n",
        "\n",
        "\n",
        "s = int(input())\n",
        "a = int(input())\n",
        "b = int(input())\n",
        "print(acorda_aninha(s, a, b))"
      ],
      "metadata": {
        "colab": {
          "base_uri": "https://localhost:8080/"
        },
        "id": "NhQ52zAtmRap",
        "outputId": "bc8dd793-20f2-43f5-8bf1-89dfac1d258c"
      },
      "execution_count": null,
      "outputs": [
        {
          "output_type": "stream",
          "name": "stdout",
          "text": [
            "1\n",
            "1\n",
            "10000\n",
            "5\n"
          ]
        }
      ]
    },
    {
      "cell_type": "markdown",
      "source": [
        "# [AVALIAÇÃO 3 - UN 2] QUESTÃO 7\n",
        "\n",
        "\n",
        "João conseguiu contratar um ótimo plano de Internet para o seu telefone celular. O plano permite que João utilize uma quota de até X megabytes de dados por mês para navegar na Internet. Se João não usa toda a sua quota no mês, os megabytes que ele não usou são adicionados à quota do mês seguinte. Pelo contrato, João nunca pode usar mais megabytes do que a sua quota corrente. Por exemplo, se X=200 megabytes e João usou 150 no primeiro mês e 220 megabytes no segundo mês, então no terceiro mês João tem uma quota de 230 megabytes para usar (50 megabytes são transferidos do primeiro para o segundo mês, 30 megabytes são transferidos do segundo para o terceiro mês). Nesta tarefa são dados o valor da quota mensal X e quantos megabytes João usou em cada um dos primeiros N meses do plano. Você deve implementar uma função para determinar quantos megabytes João tem para usar no mês N+1.\n",
        "\n",
        "* Entrada\n",
        "\n",
        "A primeira linha da entrada contém um número inteiro X, o valor da quota mensal em megabytes. A segunda linha contém um inteiro N, o número de meses. Cada uma das linhas seguintes contém um número inteiro M_i, indicando a quantidade de megabytes que João usou em cada mês, do mês 1 até o mês N.\n",
        "\n",
        "* Saída\n",
        "\n",
        "Seu programa deve produzir uma única linha, contendo um único número inteiro, a quantidade de megabytes que João tem para usar no mês N+1.\n",
        "\n",
        "**Restrições**\n",
        "\n",
        "* 1 ≤ X ≤ 100\n",
        "\n",
        "* 1 ≤ N ≤ 100\n",
        "\n",
        "* 0 ≤ M_i ≤ 10000 para 1 ≤ i ≤ N\n",
        "\n",
        "* M_i nunca é maior do que a quantidade de megabytes que João tem para usar no mês.\n"
      ],
      "metadata": {
        "id": "bUba3__8mijB"
      }
    },
    {
      "cell_type": "code",
      "source": [
        "def q_megas(valor):\n",
        "    for mes in range(1, meses+1):\n",
        "        megas_usados = int(input())\n",
        "\n",
        "        if mes == 1:\n",
        "            megas_disponivel = x\n",
        "        else:\n",
        "            megas_disponivel = resto + x\n",
        "\n",
        "        resto = megas_disponivel - megas_usados\n",
        "\n",
        "    proximo_mes = x + resto\n",
        "    return(proximo_mes)\n",
        "\n",
        "\n",
        "x = int(input())\n",
        "meses = int(input())\n",
        "\n",
        "print(q_megas(meses))"
      ],
      "metadata": {
        "colab": {
          "base_uri": "https://localhost:8080/"
        },
        "id": "AN0rZ_yImiL6",
        "outputId": "68a5eb2e-a4a7-4d52-aec9-4157c86a5634"
      },
      "execution_count": null,
      "outputs": [
        {
          "output_type": "stream",
          "name": "stdout",
          "text": [
            "100\n",
            "2\n",
            "50\n",
            "120\n",
            "130\n"
          ]
        }
      ]
    }
  ]
}